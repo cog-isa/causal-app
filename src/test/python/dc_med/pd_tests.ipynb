{
 "cells": [
  {
   "cell_type": "code",
   "execution_count": 3,
   "metadata": {
    "collapsed": false
   },
   "outputs": [],
   "source": [
    "import numpy as np\n",
    "import pandas as pd\n",
    "dates = pd.date_range('20130101', periods=6)"
   ]
  },
  {
   "cell_type": "code",
   "execution_count": 4,
   "metadata": {
    "collapsed": true
   },
   "outputs": [],
   "source": [
    "df = pd.DataFrame(np.random.randn(6,4), index=dates, columns=list('ABCD'))"
   ]
  },
  {
   "cell_type": "code",
   "execution_count": 5,
   "metadata": {
    "collapsed": false
   },
   "outputs": [
    {
     "data": {
      "text/html": [
       "<div>\n",
       "<table border=\"1\" class=\"dataframe\">\n",
       "  <thead>\n",
       "    <tr style=\"text-align: right;\">\n",
       "      <th></th>\n",
       "      <th>A</th>\n",
       "      <th>B</th>\n",
       "      <th>C</th>\n",
       "      <th>D</th>\n",
       "    </tr>\n",
       "  </thead>\n",
       "  <tbody>\n",
       "    <tr>\n",
       "      <th>2013-01-01</th>\n",
       "      <td>-0.780983</td>\n",
       "      <td>0.675392</td>\n",
       "      <td>-1.204800</td>\n",
       "      <td>0.130997</td>\n",
       "    </tr>\n",
       "    <tr>\n",
       "      <th>2013-01-02</th>\n",
       "      <td>0.619849</td>\n",
       "      <td>2.134038</td>\n",
       "      <td>0.573553</td>\n",
       "      <td>0.341110</td>\n",
       "    </tr>\n",
       "    <tr>\n",
       "      <th>2013-01-03</th>\n",
       "      <td>-1.638158</td>\n",
       "      <td>-0.139888</td>\n",
       "      <td>-0.511656</td>\n",
       "      <td>-0.752437</td>\n",
       "    </tr>\n",
       "    <tr>\n",
       "      <th>2013-01-04</th>\n",
       "      <td>-0.020434</td>\n",
       "      <td>0.496664</td>\n",
       "      <td>-1.586852</td>\n",
       "      <td>-0.187567</td>\n",
       "    </tr>\n",
       "    <tr>\n",
       "      <th>2013-01-05</th>\n",
       "      <td>-1.216179</td>\n",
       "      <td>1.453575</td>\n",
       "      <td>-1.186837</td>\n",
       "      <td>-0.203968</td>\n",
       "    </tr>\n",
       "    <tr>\n",
       "      <th>2013-01-06</th>\n",
       "      <td>-1.500044</td>\n",
       "      <td>1.869281</td>\n",
       "      <td>-1.230274</td>\n",
       "      <td>0.478815</td>\n",
       "    </tr>\n",
       "  </tbody>\n",
       "</table>\n",
       "</div>"
      ],
      "text/plain": [
       "                   A         B         C         D\n",
       "2013-01-01 -0.780983  0.675392 -1.204800  0.130997\n",
       "2013-01-02  0.619849  2.134038  0.573553  0.341110\n",
       "2013-01-03 -1.638158 -0.139888 -0.511656 -0.752437\n",
       "2013-01-04 -0.020434  0.496664 -1.586852 -0.187567\n",
       "2013-01-05 -1.216179  1.453575 -1.186837 -0.203968\n",
       "2013-01-06 -1.500044  1.869281 -1.230274  0.478815"
      ]
     },
     "execution_count": 5,
     "metadata": {},
     "output_type": "execute_result"
    }
   ],
   "source": [
    "df"
   ]
  },
  {
   "cell_type": "code",
   "execution_count": 6,
   "metadata": {
    "collapsed": true
   },
   "outputs": [],
   "source": [
    "df1 = df.reindex(index=dates[0:4], columns=list(df.columns) + ['E'])"
   ]
  },
  {
   "cell_type": "code",
   "execution_count": 7,
   "metadata": {
    "collapsed": false
   },
   "outputs": [
    {
     "data": {
      "text/html": [
       "<div>\n",
       "<table border=\"1\" class=\"dataframe\">\n",
       "  <thead>\n",
       "    <tr style=\"text-align: right;\">\n",
       "      <th></th>\n",
       "      <th>A</th>\n",
       "      <th>B</th>\n",
       "      <th>C</th>\n",
       "      <th>D</th>\n",
       "      <th>E</th>\n",
       "    </tr>\n",
       "  </thead>\n",
       "  <tbody>\n",
       "    <tr>\n",
       "      <th>2013-01-01</th>\n",
       "      <td>-0.780983</td>\n",
       "      <td>0.675392</td>\n",
       "      <td>-1.204800</td>\n",
       "      <td>0.130997</td>\n",
       "      <td>NaN</td>\n",
       "    </tr>\n",
       "    <tr>\n",
       "      <th>2013-01-02</th>\n",
       "      <td>0.619849</td>\n",
       "      <td>2.134038</td>\n",
       "      <td>0.573553</td>\n",
       "      <td>0.341110</td>\n",
       "      <td>NaN</td>\n",
       "    </tr>\n",
       "    <tr>\n",
       "      <th>2013-01-03</th>\n",
       "      <td>-1.638158</td>\n",
       "      <td>-0.139888</td>\n",
       "      <td>-0.511656</td>\n",
       "      <td>-0.752437</td>\n",
       "      <td>NaN</td>\n",
       "    </tr>\n",
       "    <tr>\n",
       "      <th>2013-01-04</th>\n",
       "      <td>-0.020434</td>\n",
       "      <td>0.496664</td>\n",
       "      <td>-1.586852</td>\n",
       "      <td>-0.187567</td>\n",
       "      <td>NaN</td>\n",
       "    </tr>\n",
       "  </tbody>\n",
       "</table>\n",
       "</div>"
      ],
      "text/plain": [
       "                   A         B         C         D   E\n",
       "2013-01-01 -0.780983  0.675392 -1.204800  0.130997 NaN\n",
       "2013-01-02  0.619849  2.134038  0.573553  0.341110 NaN\n",
       "2013-01-03 -1.638158 -0.139888 -0.511656 -0.752437 NaN\n",
       "2013-01-04 -0.020434  0.496664 -1.586852 -0.187567 NaN"
      ]
     },
     "execution_count": 7,
     "metadata": {},
     "output_type": "execute_result"
    }
   ],
   "source": [
    "df1"
   ]
  },
  {
   "cell_type": "code",
   "execution_count": 8,
   "metadata": {
    "collapsed": true
   },
   "outputs": [],
   "source": [
    "df1.loc[dates[0]:dates[1],'E'] = 1"
   ]
  },
  {
   "cell_type": "code",
   "execution_count": 9,
   "metadata": {
    "collapsed": false
   },
   "outputs": [
    {
     "data": {
      "text/html": [
       "<div>\n",
       "<table border=\"1\" class=\"dataframe\">\n",
       "  <thead>\n",
       "    <tr style=\"text-align: right;\">\n",
       "      <th></th>\n",
       "      <th>A</th>\n",
       "      <th>B</th>\n",
       "      <th>C</th>\n",
       "      <th>D</th>\n",
       "      <th>E</th>\n",
       "    </tr>\n",
       "  </thead>\n",
       "  <tbody>\n",
       "    <tr>\n",
       "      <th>2013-01-01</th>\n",
       "      <td>-0.780983</td>\n",
       "      <td>0.675392</td>\n",
       "      <td>-1.204800</td>\n",
       "      <td>0.130997</td>\n",
       "      <td>1</td>\n",
       "    </tr>\n",
       "    <tr>\n",
       "      <th>2013-01-02</th>\n",
       "      <td>0.619849</td>\n",
       "      <td>2.134038</td>\n",
       "      <td>0.573553</td>\n",
       "      <td>0.341110</td>\n",
       "      <td>1</td>\n",
       "    </tr>\n",
       "    <tr>\n",
       "      <th>2013-01-03</th>\n",
       "      <td>-1.638158</td>\n",
       "      <td>-0.139888</td>\n",
       "      <td>-0.511656</td>\n",
       "      <td>-0.752437</td>\n",
       "      <td>NaN</td>\n",
       "    </tr>\n",
       "    <tr>\n",
       "      <th>2013-01-04</th>\n",
       "      <td>-0.020434</td>\n",
       "      <td>0.496664</td>\n",
       "      <td>-1.586852</td>\n",
       "      <td>-0.187567</td>\n",
       "      <td>NaN</td>\n",
       "    </tr>\n",
       "  </tbody>\n",
       "</table>\n",
       "</div>"
      ],
      "text/plain": [
       "                   A         B         C         D   E\n",
       "2013-01-01 -0.780983  0.675392 -1.204800  0.130997   1\n",
       "2013-01-02  0.619849  2.134038  0.573553  0.341110   1\n",
       "2013-01-03 -1.638158 -0.139888 -0.511656 -0.752437 NaN\n",
       "2013-01-04 -0.020434  0.496664 -1.586852 -0.187567 NaN"
      ]
     },
     "execution_count": 9,
     "metadata": {},
     "output_type": "execute_result"
    }
   ],
   "source": [
    "df1"
   ]
  },
  {
   "cell_type": "code",
   "execution_count": 10,
   "metadata": {
    "collapsed": false
   },
   "outputs": [
    {
     "data": {
      "text/html": [
       "<div>\n",
       "<table border=\"1\" class=\"dataframe\">\n",
       "  <thead>\n",
       "    <tr style=\"text-align: right;\">\n",
       "      <th></th>\n",
       "      <th>A</th>\n",
       "      <th>B</th>\n",
       "      <th>C</th>\n",
       "      <th>D</th>\n",
       "    </tr>\n",
       "  </thead>\n",
       "  <tbody>\n",
       "    <tr>\n",
       "      <th>2013-01-01</th>\n",
       "      <td>-0.780983</td>\n",
       "      <td>0.675392</td>\n",
       "      <td>-1.204800</td>\n",
       "      <td>0.130997</td>\n",
       "    </tr>\n",
       "    <tr>\n",
       "      <th>2013-01-02</th>\n",
       "      <td>0.619849</td>\n",
       "      <td>2.134038</td>\n",
       "      <td>0.573553</td>\n",
       "      <td>0.341110</td>\n",
       "    </tr>\n",
       "    <tr>\n",
       "      <th>2013-01-03</th>\n",
       "      <td>-1.638158</td>\n",
       "      <td>-0.139888</td>\n",
       "      <td>-0.511656</td>\n",
       "      <td>-0.752437</td>\n",
       "    </tr>\n",
       "    <tr>\n",
       "      <th>2013-01-04</th>\n",
       "      <td>-0.020434</td>\n",
       "      <td>0.496664</td>\n",
       "      <td>-1.586852</td>\n",
       "      <td>-0.187567</td>\n",
       "    </tr>\n",
       "  </tbody>\n",
       "</table>\n",
       "</div>"
      ],
      "text/plain": [
       "                   A         B         C         D\n",
       "2013-01-01 -0.780983  0.675392 -1.204800  0.130997\n",
       "2013-01-02  0.619849  2.134038  0.573553  0.341110\n",
       "2013-01-03 -1.638158 -0.139888 -0.511656 -0.752437\n",
       "2013-01-04 -0.020434  0.496664 -1.586852 -0.187567"
      ]
     },
     "execution_count": 10,
     "metadata": {},
     "output_type": "execute_result"
    }
   ],
   "source": [
    "df1.dropna(axis=1, thresh=3)"
   ]
  },
  {
   "cell_type": "code",
   "execution_count": 11,
   "metadata": {
    "collapsed": false
   },
   "outputs": [
    {
     "data": {
      "text/html": [
       "<div>\n",
       "<table border=\"1\" class=\"dataframe\">\n",
       "  <thead>\n",
       "    <tr style=\"text-align: right;\">\n",
       "      <th></th>\n",
       "      <th>A</th>\n",
       "      <th>B</th>\n",
       "      <th>C</th>\n",
       "      <th>D</th>\n",
       "      <th>E</th>\n",
       "    </tr>\n",
       "  </thead>\n",
       "  <tbody>\n",
       "    <tr>\n",
       "      <th>2013-01-01</th>\n",
       "      <td>-0.780983</td>\n",
       "      <td>0.675392</td>\n",
       "      <td>-1.204800</td>\n",
       "      <td>0.130997</td>\n",
       "      <td>1</td>\n",
       "    </tr>\n",
       "    <tr>\n",
       "      <th>2013-01-02</th>\n",
       "      <td>0.619849</td>\n",
       "      <td>2.134038</td>\n",
       "      <td>0.573553</td>\n",
       "      <td>0.341110</td>\n",
       "      <td>1</td>\n",
       "    </tr>\n",
       "    <tr>\n",
       "      <th>2013-01-03</th>\n",
       "      <td>-1.638158</td>\n",
       "      <td>-0.139888</td>\n",
       "      <td>-0.511656</td>\n",
       "      <td>-0.752437</td>\n",
       "      <td>NaN</td>\n",
       "    </tr>\n",
       "    <tr>\n",
       "      <th>2013-01-04</th>\n",
       "      <td>-0.020434</td>\n",
       "      <td>0.496664</td>\n",
       "      <td>-1.586852</td>\n",
       "      <td>-0.187567</td>\n",
       "      <td>NaN</td>\n",
       "    </tr>\n",
       "  </tbody>\n",
       "</table>\n",
       "</div>"
      ],
      "text/plain": [
       "                   A         B         C         D   E\n",
       "2013-01-01 -0.780983  0.675392 -1.204800  0.130997   1\n",
       "2013-01-02  0.619849  2.134038  0.573553  0.341110   1\n",
       "2013-01-03 -1.638158 -0.139888 -0.511656 -0.752437 NaN\n",
       "2013-01-04 -0.020434  0.496664 -1.586852 -0.187567 NaN"
      ]
     },
     "execution_count": 11,
     "metadata": {},
     "output_type": "execute_result"
    }
   ],
   "source": [
    "df1.dropna(axis=1, thresh=2)"
   ]
  },
  {
   "cell_type": "code",
   "execution_count": 12,
   "metadata": {
    "collapsed": false
   },
   "outputs": [
    {
     "data": {
      "text/plain": [
       "0"
      ]
     },
     "execution_count": 12,
     "metadata": {},
     "output_type": "execute_result"
    }
   ],
   "source": [
    "df1.columns.get_loc('A')"
   ]
  },
  {
   "cell_type": "code",
   "execution_count": 13,
   "metadata": {
    "collapsed": false
   },
   "outputs": [
    {
     "data": {
      "text/html": [
       "<div>\n",
       "<table border=\"1\" class=\"dataframe\">\n",
       "  <thead>\n",
       "    <tr style=\"text-align: right;\">\n",
       "      <th></th>\n",
       "      <th>A</th>\n",
       "      <th>B</th>\n",
       "      <th>C</th>\n",
       "      <th>D</th>\n",
       "    </tr>\n",
       "  </thead>\n",
       "  <tbody>\n",
       "    <tr>\n",
       "      <th>2013-01-01</th>\n",
       "      <td>-0.780983</td>\n",
       "      <td>0.675392</td>\n",
       "      <td>-1.204800</td>\n",
       "      <td>0.130997</td>\n",
       "    </tr>\n",
       "    <tr>\n",
       "      <th>2013-01-02</th>\n",
       "      <td>0.619849</td>\n",
       "      <td>2.134038</td>\n",
       "      <td>0.573553</td>\n",
       "      <td>0.341110</td>\n",
       "    </tr>\n",
       "    <tr>\n",
       "      <th>2013-01-03</th>\n",
       "      <td>-1.638158</td>\n",
       "      <td>-0.139888</td>\n",
       "      <td>-0.511656</td>\n",
       "      <td>-0.752437</td>\n",
       "    </tr>\n",
       "    <tr>\n",
       "      <th>2013-01-04</th>\n",
       "      <td>-0.020434</td>\n",
       "      <td>0.496664</td>\n",
       "      <td>-1.586852</td>\n",
       "      <td>-0.187567</td>\n",
       "    </tr>\n",
       "  </tbody>\n",
       "</table>\n",
       "</div>"
      ],
      "text/plain": [
       "                   A         B         C         D\n",
       "2013-01-01 -0.780983  0.675392 -1.204800  0.130997\n",
       "2013-01-02  0.619849  2.134038  0.573553  0.341110\n",
       "2013-01-03 -1.638158 -0.139888 -0.511656 -0.752437\n",
       "2013-01-04 -0.020434  0.496664 -1.586852 -0.187567"
      ]
     },
     "execution_count": 13,
     "metadata": {},
     "output_type": "execute_result"
    }
   ],
   "source": [
    "df2 = df1.dropna(axis=1, thresh=3)\n",
    "df2"
   ]
  },
  {
   "cell_type": "code",
   "execution_count": 16,
   "metadata": {
    "collapsed": false
   },
   "outputs": [],
   "source": [
    "df = pd.DataFrame(np.random.randn(6,4), index=range(6), columns=list('ABCD'))"
   ]
  },
  {
   "cell_type": "code",
   "execution_count": 17,
   "metadata": {
    "collapsed": false
   },
   "outputs": [
    {
     "data": {
      "text/html": [
       "<div>\n",
       "<table border=\"1\" class=\"dataframe\">\n",
       "  <thead>\n",
       "    <tr style=\"text-align: right;\">\n",
       "      <th></th>\n",
       "      <th>A</th>\n",
       "      <th>B</th>\n",
       "      <th>C</th>\n",
       "      <th>D</th>\n",
       "    </tr>\n",
       "  </thead>\n",
       "  <tbody>\n",
       "    <tr>\n",
       "      <th>0</th>\n",
       "      <td>-0.082177</td>\n",
       "      <td>1.669760</td>\n",
       "      <td>0.984703</td>\n",
       "      <td>0.691419</td>\n",
       "    </tr>\n",
       "    <tr>\n",
       "      <th>1</th>\n",
       "      <td>-0.863271</td>\n",
       "      <td>0.036296</td>\n",
       "      <td>-0.309779</td>\n",
       "      <td>1.753046</td>\n",
       "    </tr>\n",
       "    <tr>\n",
       "      <th>2</th>\n",
       "      <td>1.189012</td>\n",
       "      <td>-0.238806</td>\n",
       "      <td>-0.114077</td>\n",
       "      <td>-1.052359</td>\n",
       "    </tr>\n",
       "    <tr>\n",
       "      <th>3</th>\n",
       "      <td>-0.991874</td>\n",
       "      <td>-1.082315</td>\n",
       "      <td>1.724366</td>\n",
       "      <td>-0.036022</td>\n",
       "    </tr>\n",
       "    <tr>\n",
       "      <th>4</th>\n",
       "      <td>-0.770210</td>\n",
       "      <td>-0.020009</td>\n",
       "      <td>-1.102281</td>\n",
       "      <td>2.492944</td>\n",
       "    </tr>\n",
       "    <tr>\n",
       "      <th>5</th>\n",
       "      <td>0.512619</td>\n",
       "      <td>0.838677</td>\n",
       "      <td>1.143824</td>\n",
       "      <td>0.617505</td>\n",
       "    </tr>\n",
       "  </tbody>\n",
       "</table>\n",
       "</div>"
      ],
      "text/plain": [
       "          A         B         C         D\n",
       "0 -0.082177  1.669760  0.984703  0.691419\n",
       "1 -0.863271  0.036296 -0.309779  1.753046\n",
       "2  1.189012 -0.238806 -0.114077 -1.052359\n",
       "3 -0.991874 -1.082315  1.724366 -0.036022\n",
       "4 -0.770210 -0.020009 -1.102281  2.492944\n",
       "5  0.512619  0.838677  1.143824  0.617505"
      ]
     },
     "execution_count": 17,
     "metadata": {},
     "output_type": "execute_result"
    }
   ],
   "source": [
    "df"
   ]
  },
  {
   "cell_type": "code",
   "execution_count": 18,
   "metadata": {
    "collapsed": false
   },
   "outputs": [
    {
     "data": {
      "text/html": [
       "<div>\n",
       "<table border=\"1\" class=\"dataframe\">\n",
       "  <thead>\n",
       "    <tr style=\"text-align: right;\">\n",
       "      <th></th>\n",
       "      <th>A</th>\n",
       "      <th>B</th>\n",
       "      <th>C</th>\n",
       "      <th>D</th>\n",
       "    </tr>\n",
       "  </thead>\n",
       "  <tbody>\n",
       "    <tr>\n",
       "      <th>2</th>\n",
       "      <td>1.189012</td>\n",
       "      <td>-0.238806</td>\n",
       "      <td>-0.114077</td>\n",
       "      <td>-1.052359</td>\n",
       "    </tr>\n",
       "    <tr>\n",
       "      <th>3</th>\n",
       "      <td>-0.991874</td>\n",
       "      <td>-1.082315</td>\n",
       "      <td>1.724366</td>\n",
       "      <td>-0.036022</td>\n",
       "    </tr>\n",
       "    <tr>\n",
       "      <th>4</th>\n",
       "      <td>-0.770210</td>\n",
       "      <td>-0.020009</td>\n",
       "      <td>-1.102281</td>\n",
       "      <td>2.492944</td>\n",
       "    </tr>\n",
       "    <tr>\n",
       "      <th>5</th>\n",
       "      <td>0.512619</td>\n",
       "      <td>0.838677</td>\n",
       "      <td>1.143824</td>\n",
       "      <td>0.617505</td>\n",
       "    </tr>\n",
       "  </tbody>\n",
       "</table>\n",
       "</div>"
      ],
      "text/plain": [
       "          A         B         C         D\n",
       "2  1.189012 -0.238806 -0.114077 -1.052359\n",
       "3 -0.991874 -1.082315  1.724366 -0.036022\n",
       "4 -0.770210 -0.020009 -1.102281  2.492944\n",
       "5  0.512619  0.838677  1.143824  0.617505"
      ]
     },
     "execution_count": 18,
     "metadata": {},
     "output_type": "execute_result"
    }
   ],
   "source": [
    "df.drop([0,1])"
   ]
  },
  {
   "cell_type": "code",
   "execution_count": null,
   "metadata": {
    "collapsed": true
   },
   "outputs": [],
   "source": []
  }
 ],
 "metadata": {
  "kernelspec": {
   "display_name": "Python 3",
   "language": "python",
   "name": "python3"
  },
  "language_info": {
   "codemirror_mode": {
    "name": "ipython",
    "version": 3
   },
   "file_extension": ".py",
   "mimetype": "text/x-python",
   "name": "python",
   "nbconvert_exporter": "python",
   "pygments_lexer": "ipython3",
   "version": "3.4.3"
  }
 },
 "nbformat": 4,
 "nbformat_minor": 0
}
